{
 "cells": [
  {
   "cell_type": "markdown",
   "metadata": {},
   "source": [
    "# Computer vs You Rock Paper and Scissors Game"
   ]
  },
  {
   "cell_type": "code",
   "execution_count": 13,
   "metadata": {},
   "outputs": [],
   "source": [
    "import random\n",
    "import math"
   ]
  },
  {
   "cell_type": "code",
   "execution_count": 3,
   "metadata": {},
   "outputs": [],
   "source": [
    "#To generate random variables"
   ]
  },
  {
   "cell_type": "code",
   "execution_count": null,
   "metadata": {},
   "outputs": [],
   "source": [
    "#defining function play where we feed the user to be either rock,paper and scissors\n",
    "#feeding the computer a rnadom choice between rock,paper and scissors\n"
   ]
  },
  {
   "cell_type": "code",
   "execution_count": 9,
   "metadata": {},
   "outputs": [],
   "source": [
    "def play():\n",
    "    user = input(\"What's your choice? 'r' for rock, 'p' for paper, 's' for scissors\\n\")\n",
    "    user = user.lower()\n",
    "\n",
    "    computer = random.choice(['r', 'p', 's'])\n",
    "\n",
    "    if user == computer:\n",
    "        return (0, user, computer)\n",
    "\n",
    "    # r > s, s > p, p > r\n",
    "    if is_win(user, computer):\n",
    "        return (1, user, computer)\n",
    "\n",
    "    return (-1, user, computer)"
   ]
  },
  {
   "cell_type": "code",
   "execution_count": 11,
   "metadata": {},
   "outputs": [],
   "source": [
    "def is_win(player, opponent):\n",
    "    # return true is the player beats the opponent\n",
    "    # winning conditions: r > s, s > p, p > r\n",
    "    if (player == 'r' and opponent == 's') or (player == 's' and opponent == 'p') or (player == 'p' and opponent == 'r'):\n",
    "        return True\n",
    "    return False"
   ]
  },
  {
   "cell_type": "code",
   "execution_count": null,
   "metadata": {},
   "outputs": [],
   "source": [
    "#if player and computer chose the same we give tie\n",
    "# we follow all the individual cases of the game "
   ]
  },
  {
   "cell_type": "code",
   "execution_count": 15,
   "metadata": {},
   "outputs": [
    {
     "name": "stdout",
     "output_type": "stream",
     "text": [
      "What's your choice? 'r' for rock, 'p' for paper, 's' for scissors\n",
      "r\n",
      "It is a tie. You and the computer have both chosen r. \n",
      "\n",
      "What's your choice? 'r' for rock, 'p' for paper, 's' for scissors\n",
      "r\n",
      "You chose r and the computer chose p. You lost :(\n",
      "\n",
      "What's your choice? 'r' for rock, 'p' for paper, 's' for scissors\n",
      "r\n",
      "You chose r and the computer chose s. You won!\n",
      "\n",
      "What's your choice? 'r' for rock, 'p' for paper, 's' for scissors\n",
      "s\n",
      "You chose s and the computer chose p. You won!\n",
      "\n",
      "You have won the best of 3 games! What a champ :D\n"
     ]
    }
   ],
   "source": [
    "def play_best_of(n):\n",
    "    # play against the computer until someone wins best of n games\n",
    "    # to win, you must win ceil(n/2) games (ie 2/3, 3/5, 4/7)\n",
    "    player_wins = 0\n",
    "    computer_wins = 0\n",
    "    wins_necessary = math.ceil(n/2)\n",
    "    while player_wins < wins_necessary and computer_wins < wins_necessary:\n",
    "        result, user, computer = play()\n",
    "        # tie\n",
    "        if result == 0:\n",
    "            print('It is a tie. You and the computer have both chosen {}. \\n'.format(user))\n",
    "        # you win\n",
    "        elif result == 1:\n",
    "            player_wins += 1\n",
    "            print('You chose {} and the computer chose {}. You won!\\n'.format(user, computer))\n",
    "        else:\n",
    "            computer_wins += 1\n",
    "            print('You chose {} and the computer chose {}. You lost :(\\n'.format(user, computer))\n",
    "\n",
    "    if player_wins > computer_wins:\n",
    "        print('You have won the best of {} games! What a champ :D'.format(n))\n",
    "    else:\n",
    "        print('Unfortunately, the computer has won the best of {} games. Better luck next time!'.format(n))\n",
    "\n",
    "\n",
    "if __name__ == '__main__':\n",
    "    play_best_of(3) # 2\n"
   ]
  },
  {
   "cell_type": "code",
   "execution_count": null,
   "metadata": {},
   "outputs": [],
   "source": []
  }
 ],
 "metadata": {
  "kernelspec": {
   "display_name": "Python 3",
   "language": "python",
   "name": "python3"
  },
  "language_info": {
   "codemirror_mode": {
    "name": "ipython",
    "version": 3
   },
   "file_extension": ".py",
   "mimetype": "text/x-python",
   "name": "python",
   "nbconvert_exporter": "python",
   "pygments_lexer": "ipython3",
   "version": "3.7.4"
  }
 },
 "nbformat": 4,
 "nbformat_minor": 2
}
